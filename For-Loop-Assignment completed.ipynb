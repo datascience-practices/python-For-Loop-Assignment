{
 "cells": [
  {
   "cell_type": "markdown",
   "id": "fc07c217-894d-440a-b984-a968b2882202",
   "metadata": {},
   "source": [
    "1. Write a Python program to print the numbers from 1 to 10 using a `for` loop."
   ]
  },
  {
   "cell_type": "code",
   "execution_count": 2,
   "id": "ab5bdf12-32b7-482a-b1c3-d881ccfe6706",
   "metadata": {},
   "outputs": [
    {
     "name": "stdout",
     "output_type": "stream",
     "text": [
      "1\n",
      "2\n",
      "3\n",
      "4\n",
      "5\n",
      "6\n",
      "7\n",
      "8\n",
      "9\n",
      "10\n"
     ]
    }
   ],
   "source": [
    "for i in range(1,11):    # using range and for loop taking one by one value in i variable\n",
    "    print(i)            # print the result"
   ]
  },
  {
   "cell_type": "markdown",
   "id": "8054f275-9853-4aa5-b4f9-f1c51a1ecec0",
   "metadata": {},
   "source": [
    "2. Create a program that calculates the sum of all numbers in a list using a `for` loop."
   ]
  },
  {
   "cell_type": "code",
   "execution_count": 5,
   "id": "f8ab6f37-326c-4e50-a28f-a80be28538cd",
   "metadata": {},
   "outputs": [
    {
     "name": "stdout",
     "output_type": "stream",
     "text": [
      "15\n"
     ]
    }
   ],
   "source": [
    "import operator          # import the operator\n",
    "list1 = [1,2,3,4,5]     # declared list1 as a list\n",
    "result = 0\n",
    "for i in list1:     #using for loop iterate the list1 element \n",
    "    result = result + operator.add(0,i)  # using operator.add perform the addition of element\n",
    "print(result)                       # print the result\n",
    "     "
   ]
  },
  {
   "cell_type": "markdown",
   "id": "d2b45a79-2491-4639-a638-6f9de3afb454",
   "metadata": {},
   "source": [
    "3. Write a program to print the characters of a string in reverse order using a `for` loop.\n"
   ]
  },
  {
   "cell_type": "code",
   "execution_count": 8,
   "id": "53b99340-b02f-41f1-b02d-d4f869f0b683",
   "metadata": {},
   "outputs": [
    {
     "name": "stdout",
     "output_type": "stream",
     "text": [
      "eelabU ikateK\n"
     ]
    }
   ],
   "source": [
    "name = \"Ketaki Ubale\"  # declared name as a string\n",
    "reverse = \"\";            # declared reverse as a empty string   \n",
    "for i in name:           # iterating name \n",
    "    reverse = i + rev;   # for reversing string\n",
    "print(reverse)          # print the reversed string\n",
    "     "
   ]
  },
  {
   "cell_type": "markdown",
   "id": "c6c358ce-0ab4-4723-aa3d-1f1ccd80c463",
   "metadata": {},
   "source": [
    "4. Develop a program that finds the factorial of a given number using a `for` loop."
   ]
  },
  {
   "cell_type": "code",
   "execution_count": 17,
   "id": "425045d8-2015-48be-96b3-bcfc7f641072",
   "metadata": {},
   "outputs": [
    {
     "name": "stdin",
     "output_type": "stream",
     "text": [
      "enter a number:  7\n"
     ]
    },
    {
     "name": "stdout",
     "output_type": "stream",
     "text": [
      "factorial of  7  is  5040\n"
     ]
    }
   ],
   "source": [
    "num = int(input(\"enter a number: \"))  # taking input and converted in integers\n",
    "fac = 1                               #fac initialise having value 1\n",
    "for i in range(1, num + 1):          # using for loop iterating the num\n",
    "    fac = fac * i                   # factorial condition\n",
    "print(\"factorial of \", num, \" is \", fac)  # display the result"
   ]
  },
  {
   "cell_type": "markdown",
   "id": "b6f28878-2402-4dd0-b26d-41dbe310a253",
   "metadata": {},
   "source": [
    "5. Create a program to print the multiplication table of a given number using a `for` loop."
   ]
  },
  {
   "cell_type": "code",
   "execution_count": 21,
   "id": "df2e33da-7b67-433c-920a-508b44ce2ecf",
   "metadata": {},
   "outputs": [
    {
     "name": "stdin",
     "output_type": "stream",
     "text": [
      "Enter the number for multiplication table:  8\n"
     ]
    },
    {
     "name": "stdout",
     "output_type": "stream",
     "text": [
      "8  *  1  =  8\n",
      "8  *  2  =  16\n",
      "8  *  3  =  24\n",
      "8  *  4  =  32\n",
      "8  *  5  =  40\n",
      "8  *  6  =  48\n",
      "8  *  7  =  56\n",
      "8  *  8  =  64\n",
      "8  *  9  =  72\n",
      "8  *  10  =  80\n"
     ]
    }
   ],
   "source": [
    "num = int(input(\"Enter the number for multiplication table: \"))  # taking user input\n",
    "ourRange = range(1,11)                                          # mention upto range\n",
    "for x in ourRange:                                             # iterate the range using for loop\n",
    "    result = num * x                                           # finding the result for mutiplication using num and x\n",
    "    print(num,\" * \",x,\" = \",result)                             # print the table \n",
    "    "
   ]
  },
  {
   "cell_type": "markdown",
   "id": "ff76a9f4-2d87-4063-9081-55e27b1c5ad9",
   "metadata": {},
   "source": [
    "6. Write a program that counts the number of even and odd numbers in a list using a `for` loop."
   ]
  },
  {
   "cell_type": "code",
   "execution_count": 22,
   "id": "85beec94-63a9-43f5-8272-db7f0c6bdd5e",
   "metadata": {},
   "outputs": [
    {
     "name": "stdout",
     "output_type": "stream",
     "text": [
      "Even numbers in the list:  3\n",
      "Odd numbers in the list:  4\n"
     ]
    }
   ],
   "source": [
    "list1 = [10, 21, 4, 45, 66, 93, 1]\n",
    " \n",
    "even_count, odd_count = 0, 0           # initialise both count havong 0 \n",
    " \n",
    "for num in list1:                       # iterating each number in list\n",
    " \n",
    "    if num % 2 == 0:                     # checking condition\n",
    "        even_count += 1\n",
    " \n",
    "    else:\n",
    "        odd_count += 1\n",
    "print(\"Even numbers in the list: \", even_count)    # print result\n",
    "print(\"Odd numbers in the list: \", odd_count)"
   ]
  },
  {
   "cell_type": "markdown",
   "id": "7286ad50-3478-4e61-9c82-14fd0229fa5a",
   "metadata": {},
   "source": [
    "7. Develop a program that prints the squares of numbers from 1 to 5 using a `for` loop."
   ]
  },
  {
   "cell_type": "code",
   "execution_count": 24,
   "id": "7629949a-fa21-4d60-9d80-7b6aaa435a09",
   "metadata": {},
   "outputs": [
    {
     "name": "stdout",
     "output_type": "stream",
     "text": [
      "1\n",
      "4\n",
      "9\n",
      "16\n",
      "25\n"
     ]
    }
   ],
   "source": [
    "for i in range(1,6):    # using for loop iterate the range from 1 t0 5\n",
    "    print(i*i)           # multiply itself for square and print the result"
   ]
  },
  {
   "cell_type": "markdown",
   "id": "be8318b0-f25d-465d-a2ad-2b74d31ffc92",
   "metadata": {},
   "source": [
    "8. Create a program to find the length of a string without using the `len()` function."
   ]
  },
  {
   "cell_type": "code",
   "execution_count": 26,
   "id": "ed6411dc-7a3b-4054-bb8d-2f656030b782",
   "metadata": {},
   "outputs": [
    {
     "name": "stdout",
     "output_type": "stream",
     "text": [
      "12\n"
     ]
    }
   ],
   "source": [
    "string = 'Ketaki Ubale'  # declared string as a string\n",
    "count = 0                # initialise count as a 0\n",
    "for i in string:         # iterating string using for loop\n",
    "    count+=1            # length counting \n",
    "print(count)            # print the result of length"
   ]
  },
  {
   "cell_type": "markdown",
   "id": "52f8ae10-8ad9-4814-af13-6179dc7079a0",
   "metadata": {},
   "source": [
    "9. Write a program that calculates the average of a list of numbers using a `for` loop."
   ]
  },
  {
   "cell_type": "code",
   "execution_count": 29,
   "id": "949865a5-a5ae-4cbe-a008-b1296009d176",
   "metadata": {},
   "outputs": [
    {
     "name": "stdout",
     "output_type": "stream",
     "text": [
      "3.0\n"
     ]
    }
   ],
   "source": [
    "numbers = [1,2,3,4,5]     # declared numbers as a list\n",
    "average = sum(numbers) / len(numbers)   # using calculate for average\n",
    "print(average)                         # print the average"
   ]
  },
  {
   "cell_type": "markdown",
   "id": "413af5b5-f5da-4ae0-a48a-fbe88871f3bf",
   "metadata": {},
   "source": [
    "10. Develop a program that prints the first `n` Fibonacci numbers using a `for` loop."
   ]
  },
  {
   "cell_type": "code",
   "execution_count": 31,
   "id": "316ca485-b002-4eb7-bcf3-faadeb6b4d4a",
   "metadata": {},
   "outputs": [
    {
     "name": "stdin",
     "output_type": "stream",
     "text": [
      "Enter the number of terms:  9\n"
     ]
    },
    {
     "name": "stdout",
     "output_type": "stream",
     "text": [
      "0 1 1 2 3 5 8 13 21 "
     ]
    }
   ],
   "source": [
    "n=int(input(\"Enter the number of terms: \"))  # taking number from user\n",
    "a=0                                          # a having 0 and b having 1 value\n",
    "b=1 \n",
    "if n<=0:                                  #using if condition for check the given no is less than or equal to 0 then print the number\n",
    "    print(\"The Output of your input is\",a)\n",
    "else:                                      # else print the a and b \n",
    "    print(a,b,end=\" \")\n",
    "    for x in range(2,n):                        # using for loop iterate the range from 2 to given number\n",
    "        c=a+b                                   # fibonicci having addition of privious 2 numbers\n",
    "        print(c,end=\" \")                       # display the result \n",
    "        a=b                                    # defining a=b and b=c\n",
    "        b=c              "
   ]
  },
  {
   "cell_type": "markdown",
   "id": "9fdf507d-50cb-41ab-8a4b-14410f02d52e",
   "metadata": {},
   "source": [
    "11. Write a program to check if a given list contains any duplicates using a `for` loop."
   ]
  },
  {
   "cell_type": "code",
   "execution_count": 34,
   "id": "ed892dd2-1477-44a0-ac8f-d3ea24ae48f3",
   "metadata": {},
   "outputs": [
    {
     "name": "stdout",
     "output_type": "stream",
     "text": [
      "{5, 6}\n",
      "2\n"
     ]
    }
   ],
   "source": [
    "mylist = [5, 3, 5, 2, 1, 6, 6, 4] # the original input list with repeated elements.\n",
    "dup = {x for x in mylist if mylist.count(x) > 1} #To count the number of list elements that were duplicated using for loop\n",
    "print(dup)\n",
    "print(len(dup))"
   ]
  },
  {
   "cell_type": "markdown",
   "id": "9f417e11-857f-4845-af25-600458bdec21",
   "metadata": {},
   "source": [
    "12. Create a program that prints the prime numbers in a given range using a `for` loop."
   ]
  },
  {
   "cell_type": "code",
   "execution_count": 36,
   "id": "ee1d0ffa-56a8-4701-8044-0aac016c7f86",
   "metadata": {},
   "outputs": [
    {
     "name": "stdin",
     "output_type": "stream",
     "text": [
      "Enter the lower interval:  1\n",
      "Enter the upper interval:  20\n"
     ]
    },
    {
     "name": "stdout",
     "output_type": "stream",
     "text": [
      "2\n",
      "3\n",
      "5\n",
      "7\n",
      "11\n",
      "13\n",
      "17\n",
      "19\n"
     ]
    }
   ],
   "source": [
    "lower = int(input(\"Enter the lower interval: \")) #taking user input for lower limit\n",
    "upper = int(input(\"Enter the upper interval: \"))  #taking user input for upper limit\n",
    "for num in range(lower, upper + 1):      #using for loop iterate the range given lower and upper +1\n",
    "    if num > 1:                          #checking condition using if num > 1\n",
    "        for i in range(2,num):          # using for loop iterate the range from 2 to num\n",
    "            if(num%i)==0:              # if condition for checking the prime number or not\n",
    "                break                # break the statement\n",
    "        else:\n",
    "            print(num)            # print the all prime numbers"
   ]
  },
  {
   "cell_type": "markdown",
   "id": "6fee16d1-60e5-4fd6-b735-660a7b85e6e2",
   "metadata": {},
   "source": [
    "13. Develop a program that counts the number of vowels in a string using a `for` loop."
   ]
  },
  {
   "cell_type": "code",
   "execution_count": 37,
   "id": "625bd322-9bba-4dfd-affb-c86537a4dc9a",
   "metadata": {},
   "outputs": [
    {
     "name": "stdin",
     "output_type": "stream",
     "text": [
      "Enter the string : ketaki\n"
     ]
    },
    {
     "name": "stdout",
     "output_type": "stream",
     "text": [
      "Total vowels are :3\n"
     ]
    }
   ],
   "source": [
    "String = input('Enter the string :')  #take user input\n",
    "count = 0\n",
    "String = String.lower()     #to check for less conditions keep string in lowercase\n",
    "for i in String:\n",
    "    if i == 'a' or i == 'e' or i == 'i' or i == 'o' or i == 'u':    #if True\n",
    "        count+=1\n",
    "if count == 0:                          #check if any vowel found\n",
    "    print('No vowels found')\n",
    "else:\n",
    "    print('Total vowels are :' + str(count))\n",
    "    "
   ]
  },
  {
   "cell_type": "markdown",
   "id": "7db7b81f-8b24-464d-ae2a-1b6ba25264cc",
   "metadata": {},
   "source": [
    "14. Write a program to find the maximum element in a 2D list using a nested `for` loop."
   ]
  },
  {
   "cell_type": "code",
   "execution_count": 52,
   "id": "76a2402a-1e47-4190-9dd6-2893b2046e0c",
   "metadata": {},
   "outputs": [
    {
     "name": "stdout",
     "output_type": "stream",
     "text": [
      "(['A', 'B', 'C'], 3)\n"
     ]
    }
   ],
   "source": [
    "def FindMaxLength(lst):                # declared as a function \n",
    "    maxList = max(lst, key=len)           # finding max list from the list using max function\n",
    "    maxLength = len(maxList)             # finding the length of the list element\n",
    "     \n",
    "    return maxList, maxLength             # returning the maxList and maxLength\n",
    " \n",
    "lst = [['A'], ['A', 'B'], ['A', 'B', 'C']]    #declared nested 2D list\n",
    "print(FindMaxLength(lst))                     # print the result"
   ]
  },
  {
   "cell_type": "markdown",
   "id": "b28247ef-318a-4dc0-92f4-4b1561aaa43f",
   "metadata": {},
   "source": [
    "15. Create a program that removes all occurrences of a specific element from a list using a `for` loop."
   ]
  },
  {
   "cell_type": "code",
   "execution_count": 55,
   "id": "97dad0b5-febb-4f82-913f-e8b2064260de",
   "metadata": {},
   "outputs": [
    {
     "name": "stdout",
     "output_type": "stream",
     "text": [
      "list after removing elements:\n",
      "[20, 30, 40, 50]\n"
     ]
    }
   ],
   "source": [
    "list1 = [10, 20, 10, 30, 10, 40, 10, 50]   # list1  with integer elements\n",
    "n = 10   # number (n) to be removed\n",
    "for x in list1:       # loop to traverse each element in list and, remove elements which are equals to n\n",
    "    if x == n:\n",
    "        list1.remove(x)\n",
    "\n",
    "print (\"list after removing elements:\")  # print list after removing given element\n",
    "print (list1)"
   ]
  },
  {
   "cell_type": "markdown",
   "id": "e22c4642-7f11-4528-8683-8f8f94b2efad",
   "metadata": {},
   "source": [
    "16. Develop a program that generates a multiplication table for numbers from 1 to 5 using a nested `for` loop."
   ]
  },
  {
   "cell_type": "code",
   "execution_count": 58,
   "id": "df8a7a7c-dd97-449d-873a-7e253089b0be",
   "metadata": {},
   "outputs": [
    {
     "name": "stdout",
     "output_type": "stream",
     "text": [
      " 1  2  3  4  5  6  7  8  9 10 \n",
      "\n",
      " 2  4  6  8 10 12 14 16 18 20 \n",
      "\n",
      " 3  6  9 12 15 18 21 24 27 30 \n",
      "\n",
      " 4  8 12 16 20 24 28 32 36 40 \n",
      "\n",
      " 5 10 15 20 25 30 35 40 45 50 \n",
      "\n"
     ]
    }
   ],
   "source": [
    "rows=5 # Multiplication table up to 5\n",
    "columns=10 # column values \n",
    "for i in range(1,rows+1):\n",
    "    for j in range(1,columns+1):  # inner for loop\n",
    "        c=i*j \n",
    "        print(\"{:2d} \".format(c),end='')\n",
    "    print(\"\\n\")  # line break"
   ]
  },
  {
   "cell_type": "markdown",
   "id": "9c38cbdc-91bb-4baa-9f3f-2fd2edc690b1",
   "metadata": {},
   "source": [
    "17. Write a program that converts a list of Fahrenheit temperatures to Celsius using a `for` loop."
   ]
  },
  {
   "cell_type": "code",
   "execution_count": 59,
   "id": "4e33a3f0-a440-4f0d-bdd9-b6bec6f2146e",
   "metadata": {},
   "outputs": [
    {
     "name": "stdin",
     "output_type": "stream",
     "text": [
      "Enter temperature in Fahrenheit:  8\n"
     ]
    },
    {
     "name": "stdout",
     "output_type": "stream",
     "text": [
      "8.0 in Fahrenheit is equal to -13.333333333333334 in Celsius\n"
     ]
    }
   ],
   "source": [
    "# without for loop\n",
    "temp = float(input(\"Enter temperature in Fahrenheit: \"))\n",
    "celsius = (temp - 32) * 5/9\n",
    "print(f\"{temp} in Fahrenheit is equal to {celsius} in Celsius\")\n",
    "\n",
    "\n"
   ]
  },
  {
   "cell_type": "code",
   "execution_count": 63,
   "id": "e7e078b0-b6a7-43d0-a30e-1f43696ab2bf",
   "metadata": {},
   "outputs": [
    {
     "name": "stdin",
     "output_type": "stream",
     "text": [
      "What is the Celsius temperature?  9\n"
     ]
    },
    {
     "name": "stdout",
     "output_type": "stream",
     "text": [
      "The temperature is 48.2 degrees Fahrenheit.\n"
     ]
    },
    {
     "name": "stdin",
     "output_type": "stream",
     "text": [
      "What is the Celsius temperature?  3\n"
     ]
    },
    {
     "name": "stdout",
     "output_type": "stream",
     "text": [
      "The temperature is 37.4 degrees Fahrenheit.\n"
     ]
    },
    {
     "name": "stdin",
     "output_type": "stream",
     "text": [
      "What is the Celsius temperature?  7\n"
     ]
    },
    {
     "name": "stdout",
     "output_type": "stream",
     "text": [
      "The temperature is 44.6 degrees Fahrenheit.\n"
     ]
    },
    {
     "name": "stdin",
     "output_type": "stream",
     "text": [
      "What is the Celsius temperature?  3\n"
     ]
    },
    {
     "name": "stdout",
     "output_type": "stream",
     "text": [
      "The temperature is 37.4 degrees Fahrenheit.\n"
     ]
    },
    {
     "name": "stdin",
     "output_type": "stream",
     "text": [
      "What is the Celsius temperature?  9\n"
     ]
    },
    {
     "name": "stdout",
     "output_type": "stream",
     "text": [
      "The temperature is 48.2 degrees Fahrenheit.\n"
     ]
    }
   ],
   "source": [
    "#with for loop\n",
    "def main():\n",
    "\n",
    "    for i in range(5):\n",
    "        celsius = eval(input(\"What is the Celsius temperature? \"))\n",
    "        fahrenheit = 9/5 * celsius + 32\n",
    "        print(\"The temperature is\", fahrenheit, \"degrees Fahrenheit.\")\n",
    "\n",
    "main()\n"
   ]
  },
  {
   "cell_type": "markdown",
   "id": "33a87527-782e-45b9-90ec-fc5ed9e5a992",
   "metadata": {},
   "source": [
    "18. Create a program to print the common elements from two lists using a `for` loop."
   ]
  },
  {
   "cell_type": "code",
   "execution_count": 68,
   "id": "cc306f10-b22f-44ea-85dd-54751cdcd58f",
   "metadata": {},
   "outputs": [
    {
     "name": "stdout",
     "output_type": "stream",
     "text": [
      "The common elements in the two lists are: \n",
      "[5]\n"
     ]
    }
   ],
   "source": [
    "def common_member(a, b):              # defining a function as common_member taking 2 argument as a list\n",
    "    result = [i for i in a if i in b]   # checking the common element using if condition\n",
    "    return result                       # returning result\n",
    " \n",
    "a = [1, 2, 3, 4, 5]\n",
    "b = [5, 6, 7, 8, 9]\n",
    " \n",
    "print(\"The common elements in the two lists are: \")  # print the result\n",
    "print(common_member(a, b))"
   ]
  },
  {
   "cell_type": "markdown",
   "id": "f66310b0-defb-4b82-aacc-296b68ae4c87",
   "metadata": {},
   "source": [
    "19. Develop a program that prints the pattern of right-angled triangles using a `for` loop. Use ‘*’ to draw the\n",
    "pattern"
   ]
  },
  {
   "cell_type": "code",
   "execution_count": 3,
   "id": "c6b0c378-c715-45f4-91d8-1e148839557e",
   "metadata": {},
   "outputs": [
    {
     "name": "stdin",
     "output_type": "stream",
     "text": [
      "Enter row number:  8\n"
     ]
    },
    {
     "name": "stdout",
     "output_type": "stream",
     "text": [
      "*\n",
      "**\n",
      "***\n",
      "****\n",
      "*****\n",
      "******\n",
      "*******\n",
      "********\n"
     ]
    }
   ],
   "source": [
    "x=int(input(\"Enter row number: \"))\n",
    "for i in range(x):\n",
    "    for j in range(i+1):\n",
    "        print(\"*\",end='')\n",
    "    print(\"\")"
   ]
  },
  {
   "cell_type": "markdown",
   "id": "3cf46616-2eeb-482d-b5c2-d4f5b1a8d498",
   "metadata": {},
   "source": [
    "20. Write a program to find the greatest common divisor (GCD) of two numbers using a `for` loop."
   ]
  },
  {
   "cell_type": "code",
   "execution_count": 11,
   "id": "f264655e-a010-4ff2-b950-251a950c11f0",
   "metadata": {},
   "outputs": [
    {
     "name": "stdout",
     "output_type": "stream",
     "text": [
      "GCD of 50 and 100 is: 50\n"
     ]
    }
   ],
   "source": [
    "x = 50\n",
    "y = 100\n",
    "if x > y:\n",
    "    x, y = y, x\n",
    "for i in range(1,x+1):\n",
    "        if x%i == 0 and y%i == 0:\n",
    "            gcd = i\n",
    "\n",
    "print(\"GCD of\", x, \"and\", y, \"is:\", gcd)"
   ]
  },
  {
   "cell_type": "markdown",
   "id": "1dac6255-b97a-4ad6-a8f5-b35d65c0c19b",
   "metadata": {},
   "source": [
    "21. Create a program that calculates the sum of the digits of numbers in a list using a list comprehension."
   ]
  },
  {
   "cell_type": "code",
   "execution_count": 13,
   "id": "287b4355-737c-4830-99bf-b041802bc4c0",
   "metadata": {},
   "outputs": [
    {
     "name": "stdout",
     "output_type": "stream",
     "text": [
      "Sum of all elements in given list:  74\n"
     ]
    }
   ],
   "source": [
    "total = 0\n",
    "list1 = [11, 5, 17, 18, 23]      # creating a list\n",
    "for ele in range(0, len(list1)):   # Iterate each element in list and add them in variable total\n",
    "    total = total + list1[ele]\n",
    "print(\"Sum of all elements in given list: \", total) # printing total value"
   ]
  },
  {
   "cell_type": "markdown",
   "id": "6c15cf7b-f22b-4611-9016-56d8c9303ad8",
   "metadata": {},
   "source": [
    "22. Write a program to find the prime factors of a given number using a `for` loop and list comprehension."
   ]
  },
  {
   "cell_type": "code",
   "execution_count": 15,
   "id": "5656b6df-a201-44d9-885c-ab93a5c1cec8",
   "metadata": {},
   "outputs": [
    {
     "name": "stdin",
     "output_type": "stream",
     "text": [
      "Enter a number:  100\n"
     ]
    },
    {
     "name": "stdout",
     "output_type": "stream",
     "text": [
      "Prime factors of 100 are: [2, 2, 5, 5]\n"
     ]
    }
   ],
   "source": [
    "def prime_factors(n):\n",
    "    factors = []\n",
    "    # Divide n by 2 until it is even\n",
    "    while n % 2 == 0:\n",
    "        factors.append(2)\n",
    "        n //= 2\n",
    "\n",
    "    # Check for prime factors starting from 3\n",
    "    for i in range(3, int(n**0.5) + 1, 2):\n",
    "        while n % i == 0:\n",
    "            factors.append(i)\n",
    "            n //= i\n",
    "\n",
    "    # If n is still greater than 2, it's a prime factor itself\n",
    "    if n > 2:\n",
    "        factors.append(n)\n",
    "\n",
    "    return factors\n",
    "\n",
    "# Input a number from the user\n",
    "num = int(input(\"Enter a number: \"))\n",
    "\n",
    "if num < 2:\n",
    "    print(\"Prime factors are not defined for numbers less than 2.\")\n",
    "else:\n",
    "    factors = prime_factors(num)\n",
    "    print(f\"Prime factors of {num} are: {factors}\")\n"
   ]
  },
  {
   "cell_type": "markdown",
   "id": "99131fb5-174c-4d8e-b5bd-a0d51afc6343",
   "metadata": {},
   "source": [
    "23. Develop a program that extracts unique elements from a list and stores them in a new list using a list\n",
    "comprehension."
   ]
  },
  {
   "cell_type": "code",
   "execution_count": 1,
   "id": "9f426822-a192-48dd-8585-d292852e5958",
   "metadata": {},
   "outputs": [
    {
     "name": "stdout",
     "output_type": "stream",
     "text": [
      "Original List: [1, 2, 2, 3, 4, 4, 5, 6, 6]\n",
      "Unique List: [1, 2, 3, 4, 5, 6]\n"
     ]
    }
   ],
   "source": [
    "original_list = [1, 2, 2, 3, 4, 4, 5, 6, 6] # Use a list comprehension to extract unique elements\n",
    "unique_list = []\n",
    "\n",
    "[unique_list.append(x) for x in original_list if x not in unique_list] # Alternatively, you can use a set to achieve the same result more efficiently  unique_list = list(set(original_list))\n",
    "\n",
    "print(\"Original List:\", original_list) # Print the unique elements\n",
    "print(\"Unique List:\", unique_list)"
   ]
  },
  {
   "cell_type": "markdown",
   "id": "d66ac146-78af-481c-bf83-7cf46b921c4b",
   "metadata": {},
   "source": [
    "24. Create a program that generates a list of all palindromic numbers up to a specified limit using a list\n",
    "comprehension."
   ]
  },
  {
   "cell_type": "code",
   "execution_count": 5,
   "id": "08eba220-34cf-4bc3-ab72-1cf0b07b6102",
   "metadata": {},
   "outputs": [
    {
     "name": "stdin",
     "output_type": "stream",
     "text": [
      "Enter the limit:  100\n"
     ]
    },
    {
     "name": "stdout",
     "output_type": "stream",
     "text": [
      "Palindromic Numbers up to 100 are: [1, 2, 3, 4, 5, 6, 7, 8, 9, 11, 22, 33, 44, 55, 66, 77, 88, 99]\n"
     ]
    }
   ],
   "source": [
    "# Function to check if a number is palindromic\n",
    "def is_palindrome(num):\n",
    "    return str(num) == str(num)[::-1]\n",
    "\n",
    "# Input the limit from the user\n",
    "limit = int(input(\"Enter the limit: \"))\n",
    "\n",
    "# Generate a list of palindromic numbers using a list comprehension\n",
    "palindromic_numbers = [num for num in range(1, limit + 1) if is_palindrome(num)]\n",
    "\n",
    "# Print the list of palindromic numbers\n",
    "print(\"Palindromic Numbers up to\", limit, \"are:\", palindromic_numbers)\n"
   ]
  },
  {
   "cell_type": "markdown",
   "id": "bd959671-5c6c-4354-8b0f-4ba385142f83",
   "metadata": {},
   "source": [
    "25. Write a program to flatten a nested list using list comprehension."
   ]
  },
  {
   "cell_type": "code",
   "execution_count": 7,
   "id": "93b22ab2-7a97-4db2-89c3-89cfa835f147",
   "metadata": {},
   "outputs": [
    {
     "name": "stdout",
     "output_type": "stream",
     "text": [
      "Original Nested List: [[1, 2, 3], [4, 5], [6, 7, 8]]\n",
      "Flattened List: [1, 2, 3, 4, 5, 6, 7, 8]\n"
     ]
    }
   ],
   "source": [
    "# Function to flatten a nested list\n",
    "def flatten_list(nested_list):\n",
    "    return [item for sublist in nested_list for item in sublist]\n",
    "\n",
    "# Input a nested list\n",
    "nested_list = [[1, 2, 3], [4, 5], [6, 7, 8]]\n",
    "\n",
    "# Flatten the nested list using list comprehension\n",
    "flat_list = flatten_list(nested_list)\n",
    "\n",
    "# Print the flattened list\n",
    "print(\"Original Nested List:\", nested_list)\n",
    "print(\"Flattened List:\", flat_list)\n"
   ]
  },
  {
   "cell_type": "markdown",
   "id": "e8863ad7-6e29-4a7a-9925-ee13da5494bf",
   "metadata": {},
   "source": [
    "26. Develop a program that computes the sum of even and odd numbers in a list separately using list\n",
    "comprehension."
   ]
  },
  {
   "cell_type": "code",
   "execution_count": 6,
   "id": "16f0d57c-0741-4514-9fb3-105f8b1c8018",
   "metadata": {},
   "outputs": [
    {
     "name": "stdin",
     "output_type": "stream",
     "text": [
      "Enter a list of numbers separated by spaces:  7 8 9\n"
     ]
    },
    {
     "name": "stdout",
     "output_type": "stream",
     "text": [
      "Even numbers: [8]\n",
      "Sum of even numbers: 8\n",
      "Odd numbers: [7, 9]\n",
      "Sum of odd numbers: 16\n"
     ]
    }
   ],
   "source": [
    "# Input a list of numbers\n",
    "numbers = [int(x) for x in input(\"Enter a list of numbers separated by spaces: \").split()]\n",
    "\n",
    "# Use list comprehensions to separate even and odd numbers\n",
    "even_numbers = [num for num in numbers if num % 2 == 0]\n",
    "odd_numbers = [num for num in numbers if num % 2 != 0]\n",
    "\n",
    "# Calculate the sum of even and odd numbers using built-in sum function\n",
    "sum_even = sum(even_numbers)\n",
    "sum_odd = sum(odd_numbers)\n",
    "\n",
    "# Print the results\n",
    "print(\"Even numbers:\", even_numbers)\n",
    "print(\"Sum of even numbers:\", sum_even)\n",
    "\n",
    "print(\"Odd numbers:\", odd_numbers)\n",
    "print(\"Sum of odd numbers:\", sum_odd)\n"
   ]
  },
  {
   "cell_type": "markdown",
   "id": "24c53227-7652-4af2-938a-b8b5d5106fb4",
   "metadata": {},
   "source": [
    "27. Create a program that generates a list of squares of odd numbers between 1 and 10 using list\n",
    "comprehension."
   ]
  },
  {
   "cell_type": "code",
   "execution_count": 9,
   "id": "84a3d234-b9df-49a4-8dab-7235b296ca20",
   "metadata": {},
   "outputs": [
    {
     "name": "stdout",
     "output_type": "stream",
     "text": [
      "Squares of Odd Numbers between 1 and 10: [1, 9, 25, 49, 81]\n"
     ]
    }
   ],
   "source": [
    "squares_of_odd_numbers = [x**2 for x in range(1, 11) if x % 2 != 0] # using lambda functions \n",
    "\n",
    "# Print the list of squares of odd numbers\n",
    "print(\"Squares of Odd Numbers between 1 and 10:\", squares_of_odd_numbers)\n"
   ]
  },
  {
   "cell_type": "markdown",
   "id": "1b16300a-3d0d-4c71-a4c9-5f2abb7539c6",
   "metadata": {},
   "source": [
    "28. Write a program that combines two lists into a dictionary using list comprehension."
   ]
  },
  {
   "cell_type": "code",
   "execution_count": 10,
   "id": "a44f6951-a179-4dcb-9500-308bfc5ffaf7",
   "metadata": {},
   "outputs": [
    {
     "name": "stdout",
     "output_type": "stream",
     "text": [
      "Combined Dictionary: {'a': 1, 'b': 2, 'c': 3}\n"
     ]
    }
   ],
   "source": [
    "# Input two lists (one for keys and one for values)\n",
    "keys = [\"a\", \"b\", \"c\"]\n",
    "values = [1, 2, 3]\n",
    "\n",
    "# Use list comprehension to create a dictionary\n",
    "combined_dict = {keys[i]: values[i] for i in range(min(len(keys), len(values)))}\n",
    "\n",
    "# Print the combined dictionary\n",
    "print(\"Combined Dictionary:\", combined_dict)\n"
   ]
  },
  {
   "cell_type": "markdown",
   "id": "5e531a90-c855-4046-8f48-f22071b5e98f",
   "metadata": {},
   "source": [
    "29. Develop a program that extracts the vowels from a string and stores them in a list using list comprehension."
   ]
  },
  {
   "cell_type": "code",
   "execution_count": 12,
   "id": "8f1629bf-abf9-45ce-a530-c6d60b9c852a",
   "metadata": {},
   "outputs": [
    {
     "name": "stdin",
     "output_type": "stream",
     "text": [
      "Enter a string:  Ketaki Ubale\n"
     ]
    },
    {
     "name": "stdout",
     "output_type": "stream",
     "text": [
      "Vowels in the string: ['e', 'a', 'i', 'U', 'a', 'e']\n"
     ]
    }
   ],
   "source": [
    "# Input a string\n",
    "input_string = input(\"Enter a string: \")\n",
    "\n",
    "# Use list comprehension to extract vowels\n",
    "vowels = [char for char in input_string if char.lower() in 'aeiou']\n",
    "\n",
    "# Print the list of vowels\n",
    "print(\"Vowels in the string:\", vowels)\n"
   ]
  },
  {
   "cell_type": "markdown",
   "id": "5b73fbec-b2ef-4d5f-9ccf-7835891ae771",
   "metadata": {},
   "source": [
    "30. Create a program that removes all non-numeric characters from a list of strings using list comprehension."
   ]
  },
  {
   "cell_type": "code",
   "execution_count": 13,
   "id": "2759db4e-6414-4730-87cb-93ab7cd839f3",
   "metadata": {},
   "outputs": [
    {
     "name": "stdout",
     "output_type": "stream",
     "text": [
      "Original List of Strings: ['abc123', 'def456', 'ghi789', 'jkl']\n",
      "Numeric Strings Only: ['123', '456', '789', '']\n"
     ]
    }
   ],
   "source": [
    "# Input list of strings\n",
    "string_list = [\"abc123\", \"def456\", \"ghi789\", \"jkl\"]\n",
    "\n",
    "# Use list comprehension to remove non-numeric characters\n",
    "numeric_strings = [''.join(char for char in string if char.isdigit()) for string in string_list]\n",
    "\n",
    "# Print the list of numeric strings\n",
    "print(\"Original List of Strings:\", string_list)\n",
    "print(\"Numeric Strings Only:\", numeric_strings)\n"
   ]
  },
  {
   "cell_type": "markdown",
   "id": "a440e06f-fcd9-406d-92ef-ae434000038a",
   "metadata": {},
   "source": [
    "31. Write a program to generate a list of prime numbers using the Sieve of Eratosthenes algorithm and list\n",
    "comprehension."
   ]
  },
  {
   "cell_type": "code",
   "execution_count": 14,
   "id": "d3647a1b-9684-4516-b6cd-e2b59aec82e2",
   "metadata": {},
   "outputs": [
    {
     "name": "stdin",
     "output_type": "stream",
     "text": [
      "Enter a limit to generate prime numbers up to:  99\n"
     ]
    },
    {
     "name": "stdout",
     "output_type": "stream",
     "text": [
      "Prime numbers up to 99 are: [2, 3, 5, 7, 11, 13, 17, 19, 23, 29, 31, 37, 41, 43, 47, 53, 59, 61, 67, 71, 73, 79, 83, 89, 97]\n"
     ]
    }
   ],
   "source": [
    "def sieve_eratosthenes(limit):\n",
    "    # Create a list of boolean values to represent prime numbers\n",
    "    is_prime = [True] * (limit + 1)\n",
    "    is_prime[0] = is_prime[1] = False  # 0 and 1 are not prime\n",
    "    \n",
    "    # Use the Sieve of Eratosthenes algorithm to mark non-prime numbers\n",
    "    for current_num in range(2, int(limit**0.5) + 1):\n",
    "        if is_prime[current_num]:\n",
    "            for multiple in range(current_num * current_num, limit + 1, current_num):\n",
    "                is_prime[multiple] = False\n",
    "    \n",
    "    # Use list comprehension to generate a list of prime numbers\n",
    "    prime_numbers = [num for num in range(2, limit + 1) if is_prime[num]]\n",
    "    \n",
    "    return prime_numbers\n",
    "\n",
    "# Input a limit from the user\n",
    "limit = int(input(\"Enter a limit to generate prime numbers up to: \"))\n",
    "\n",
    "if limit < 2:\n",
    "    print(\"There are no prime numbers for a limit less than 2.\")\n",
    "else:\n",
    "    prime_list = sieve_eratosthenes(limit)\n",
    "    print(\"Prime numbers up to\", limit, \"are:\", prime_list)\n"
   ]
  },
  {
   "cell_type": "markdown",
   "id": "e5971428-5eb0-485b-b8ce-2ba0e641caf5",
   "metadata": {},
   "source": [
    "32. Create a program that generates a list of all Pythagorean triplets up to a specified limit using list\n",
    "comprehension."
   ]
  },
  {
   "cell_type": "code",
   "execution_count": 17,
   "id": "9eadbd9c-2c3b-4f9c-bf5e-ab6de5b96c27",
   "metadata": {},
   "outputs": [
    {
     "name": "stdin",
     "output_type": "stream",
     "text": [
      "Enter a limit to generate Pythagorean triplets up to:  20\n"
     ]
    },
    {
     "name": "stdout",
     "output_type": "stream",
     "text": [
      "Pythagorean Triplets up to 20 are:\n",
      "(6, 8, 10)\n",
      "(3, 4, 5)\n",
      "(8, 15, 17)\n",
      "(9, 12, 15)\n",
      "(5, 12, 13)\n",
      "(12, 16, 20)\n"
     ]
    }
   ],
   "source": [
    "# Input a limit from the user\n",
    "limit = int(input(\"Enter a limit to generate Pythagorean triplets up to: \"))\n",
    "\n",
    "# Generate Pythagorean triplets using list comprehension\n",
    "triplets = [(a, b, c) for a in range(1, limit + 1) for b in range(a, limit + 1) for c in range(b, limit + 1) if a**2 + b**2 == c**2]\n",
    "\n",
    "# Filter out duplicates and multiples (e.g., (3, 4, 5) and (4, 3, 5))\n",
    "unique_triplets = set(tuple(sorted(triplet)) for triplet in triplets)\n",
    "\n",
    "# Print the list of unique Pythagorean triplets\n",
    "print(\"Pythagorean Triplets up to\", limit, \"are:\")\n",
    "for triplet in unique_triplets:\n",
    "    print(triplet)\n"
   ]
  },
  {
   "cell_type": "markdown",
   "id": "96e51c34-3b1d-4e2a-a048-b7d4b8ec2cd9",
   "metadata": {},
   "source": [
    "33. Develop a program that generates a list of all possible combinations of two lists using list comprehension."
   ]
  },
  {
   "cell_type": "code",
   "execution_count": 18,
   "id": "31ca80aa-75f5-49e9-9a0a-e823ccd8c5bd",
   "metadata": {},
   "outputs": [
    {
     "name": "stdout",
     "output_type": "stream",
     "text": [
      "Combinations of two lists:\n",
      "(1, 'a')\n",
      "(1, 'b')\n",
      "(1, 'c')\n",
      "(2, 'a')\n",
      "(2, 'b')\n",
      "(2, 'c')\n",
      "(3, 'a')\n",
      "(3, 'b')\n",
      "(3, 'c')\n"
     ]
    }
   ],
   "source": [
    "# Input two lists\n",
    "list1 = [1, 2, 3]\n",
    "list2 = ['a', 'b', 'c']\n",
    "\n",
    "# Use list comprehension to generate all possible combinations\n",
    "combinations = [(x, y) for x in list1 for y in list2]\n",
    "\n",
    "# Print the list of combinations\n",
    "print(\"Combinations of two lists:\")\n",
    "for combo in combinations:\n",
    "    print(combo)\n"
   ]
  },
  {
   "cell_type": "markdown",
   "id": "4b5119cb-1b14-42be-b69c-a6c5b57a52f1",
   "metadata": {},
   "source": [
    "34. Write a program that calculates the mean, median, and mode of a list of numbers using list\n",
    "comprehension."
   ]
  },
  {
   "cell_type": "code",
   "execution_count": 19,
   "id": "4042cdbb-72c5-458b-89dd-0aa79eb24fdc",
   "metadata": {},
   "outputs": [
    {
     "name": "stdin",
     "output_type": "stream",
     "text": [
      "Enter a list of numbers separated by spaces:  3 4 5 6 7\n"
     ]
    },
    {
     "name": "stdout",
     "output_type": "stream",
     "text": [
      "Mean: 5.0\n",
      "Median: 5.0\n",
      "Mode: 3.0\n"
     ]
    }
   ],
   "source": [
    "import statistics\n",
    "\n",
    "# Input a list of numbers\n",
    "numbers = [float(x) for x in input(\"Enter a list of numbers separated by spaces: \").split()]\n",
    "\n",
    "# Calculate the mean, median, and mode\n",
    "mean = sum(numbers) / len(numbers)\n",
    "median = statistics.median(numbers)\n",
    "mode = statistics.mode(numbers)\n",
    "\n",
    "# Print the results\n",
    "print(\"Mean:\", mean)\n",
    "print(\"Median:\", median)\n",
    "print(\"Mode:\", mode)\n"
   ]
  },
  {
   "cell_type": "markdown",
   "id": "b3b05980-9106-4efd-a5f1-2c62ba07df14",
   "metadata": {},
   "source": [
    "35. Create a program that generates Pascal's triangle up to a specified number of rows using list\n",
    "comprehension."
   ]
  },
  {
   "cell_type": "code",
   "execution_count": 20,
   "id": "17e08bea-7b7e-4b44-a109-5e266b5c1337",
   "metadata": {},
   "outputs": [
    {
     "name": "stdin",
     "output_type": "stream",
     "text": [
      "Enter the number of rows for Pascal's triangle:  10\n"
     ]
    },
    {
     "name": "stdout",
     "output_type": "stream",
     "text": [
      "Pascal's Triangle:\n",
      "              1               \n",
      "             1 1              \n",
      "            1 2 1             \n",
      "           1 3 3 1            \n",
      "          1 4 6 4 1           \n",
      "        1 5 10 10 5 1         \n",
      "       1 6 15 20 15 6 1       \n",
      "     1 7 21 35 35 21 7 1      \n",
      "    1 8 28 56 70 56 28 8 1    \n",
      " 1 9 36 84 126 126 84 36 9 1  \n"
     ]
    }
   ],
   "source": [
    "def generate_pascals_triangle(num_rows):\n",
    "    # Initialize Pascal's triangle with the first row containing 1\n",
    "    triangle = [[1]]\n",
    "    \n",
    "    # Generate subsequent rows using list comprehension\n",
    "    for _ in range(1, num_rows):\n",
    "        previous_row = triangle[-1]\n",
    "        new_row = [1] + [previous_row[i] + previous_row[i + 1] for i in range(len(previous_row) - 1)] + [1]\n",
    "        triangle.append(new_row)\n",
    "    \n",
    "    return triangle\n",
    "\n",
    "# Input the number of rows from the user\n",
    "num_rows = int(input(\"Enter the number of rows for Pascal's triangle: \"))\n",
    "\n",
    "# Generate Pascal's triangle\n",
    "pascals_triangle = generate_pascals_triangle(num_rows)\n",
    "\n",
    "# Print Pascal's triangle\n",
    "print(\"Pascal's Triangle:\")\n",
    "for row in pascals_triangle:\n",
    "    print(' '.join(map(str, row)).center(num_rows * 3))\n"
   ]
  },
  {
   "cell_type": "markdown",
   "id": "77b4577b-5975-4ba9-8967-bb7975fe85b6",
   "metadata": {},
   "source": [
    "36. Develop a program that calculates the sum of the digits of a factorial of numbers from 1 to 5 using list\n",
    "comprehension."
   ]
  },
  {
   "cell_type": "code",
   "execution_count": 21,
   "id": "faeb53ca-6af2-414a-82ee-c4a8771de54e",
   "metadata": {},
   "outputs": [
    {
     "name": "stdout",
     "output_type": "stream",
     "text": [
      "Factorial of 1 is 1, and the sum of its digits is 1\n",
      "Factorial of 2 is 2, and the sum of its digits is 2\n",
      "Factorial of 3 is 6, and the sum of its digits is 6\n",
      "Factorial of 4 is 24, and the sum of its digits is 6\n",
      "Factorial of 5 is 120, and the sum of its digits is 3\n"
     ]
    }
   ],
   "source": [
    "# Function to calculate factorial of a number\n",
    "def factorial(n):\n",
    "    if n == 0 or n == 1:\n",
    "        return 1\n",
    "    else:\n",
    "        return n * factorial(n - 1)\n",
    "\n",
    "# Calculate and print the sum of digits of factorial for numbers from 1 to 5\n",
    "for num in range(1, 6):\n",
    "    fact = factorial(num)\n",
    "    digit_sum = sum(int(digit) for digit in str(fact))\n",
    "    print(f\"Factorial of {num} is {fact}, and the sum of its digits is {digit_sum}\")\n"
   ]
  },
  {
   "cell_type": "markdown",
   "id": "4686287c-ffc3-4567-8d0a-e3130157eed8",
   "metadata": {},
   "source": [
    "37. Write a program that finds the longest word in a sentence using list comprehension."
   ]
  },
  {
   "cell_type": "code",
   "execution_count": 24,
   "id": "83a586f3-cd8a-4715-8bd0-dd51129e89d3",
   "metadata": {},
   "outputs": [
    {
     "name": "stdin",
     "output_type": "stream",
     "text": [
      "Enter a sentence:  I am great sentence\n"
     ]
    },
    {
     "name": "stdout",
     "output_type": "stream",
     "text": [
      "Longest word(s) in the sentence: ['sentence']\n"
     ]
    }
   ],
   "source": [
    "# Input a sentence from the user\n",
    "sentence = input(\"Enter a sentence: \")\n",
    "\n",
    "# Split the sentence into words\n",
    "words = sentence.split()\n",
    "\n",
    "# Use list comprehension to find the longest word(s)\n",
    "longest_words = [word for word in words if len(word) == max(len(word) for word in words)]\n",
    "\n",
    "# Print the longest word(s)\n",
    "if longest_words:\n",
    "    print(\"Longest word(s) in the sentence:\", longest_words)\n",
    "else:\n",
    "    print(\"No words found in the sentence.\")\n"
   ]
  },
  {
   "cell_type": "markdown",
   "id": "869233d5-fdb6-4254-9265-841ca83cce5a",
   "metadata": {},
   "source": [
    "38. Create a program that filters a list of strings to include only those with more than three vowels using list\n",
    "comprehension."
   ]
  },
  {
   "cell_type": "code",
   "execution_count": 25,
   "id": "c800eae9-169c-4646-8e4a-fa1a31b54f1d",
   "metadata": {},
   "outputs": [
    {
     "name": "stdout",
     "output_type": "stream",
     "text": [
      "Original List of Strings: ['hello', 'world', 'programming', 'is', 'fun', 'Python', 'OpenAI']\n",
      "Strings with More Than Three Vowels: ['OpenAI']\n"
     ]
    }
   ],
   "source": [
    "# Function to count vowels in a string\n",
    "def count_vowels(string):\n",
    "    vowels = \"aeiouAEIOU\"\n",
    "    return sum(1 for char in string if char in vowels)\n",
    "\n",
    "# Input a list of strings\n",
    "string_list = [\"hello\", \"world\", \"programming\", \"is\", \"fun\", \"Python\", \"OpenAI\"]\n",
    "\n",
    "# Use list comprehension to filter strings with more than three vowels\n",
    "filtered_strings = [string for string in string_list if count_vowels(string) > 3]\n",
    "\n",
    "# Print the filtered strings\n",
    "print(\"Original List of Strings:\", string_list)\n",
    "print(\"Strings with More Than Three Vowels:\", filtered_strings)\n"
   ]
  },
  {
   "cell_type": "markdown",
   "id": "9c6ca021-cd12-466e-b784-69a3a5821a38",
   "metadata": {},
   "source": [
    "39. Develop a program that calculates the sum of the digits of numbers from 1 to 1000 using list\n",
    "comprehension."
   ]
  },
  {
   "cell_type": "code",
   "execution_count": 26,
   "id": "c5d5fdb2-fa1d-41e6-9e19-457b4a2aa687",
   "metadata": {},
   "outputs": [
    {
     "name": "stdout",
     "output_type": "stream",
     "text": [
      "Total sum of digit sums for numbers from 1 to 1000: 13501\n"
     ]
    }
   ],
   "source": [
    "# Use list comprehension to calculate the sum of digits for numbers from 1 to 1000\n",
    "digit_sums = [sum(int(digit) for digit in str(num)) for num in range(1, 1001)]\n",
    "\n",
    "# Calculate the total sum of digit sums\n",
    "total_sum = sum(digit_sums)\n",
    "\n",
    "# Print the total sum\n",
    "print(\"Total sum of digit sums for numbers from 1 to 1000:\", total_sum)\n"
   ]
  },
  {
   "cell_type": "markdown",
   "id": "486a0e59-ef6c-438d-97a6-5efcb383297f",
   "metadata": {},
   "source": [
    "40. Write a program that generates a list of prime palindromic numbers using list comprehension."
   ]
  },
  {
   "cell_type": "code",
   "execution_count": 27,
   "id": "f16a5cfc-9f23-414f-8692-ecf2cdf52459",
   "metadata": {},
   "outputs": [
    {
     "name": "stdout",
     "output_type": "stream",
     "text": [
      "Prime Palindromic Numbers up to 1000 are: [2, 3, 5, 7, 11, 101, 131, 151, 181, 191, 313, 353, 373, 383, 727, 757, 787, 797, 919, 929]\n"
     ]
    }
   ],
   "source": [
    "# Function to check if a number is prime\n",
    "def is_prime(n):\n",
    "    if n <= 1:\n",
    "        return False\n",
    "    if n <= 3:\n",
    "        return True\n",
    "    if n % 2 == 0 or n % 3 == 0:\n",
    "        return False\n",
    "    i = 5\n",
    "    while i * i <= n:\n",
    "        if n % i == 0 or n % (i + 2) == 0:\n",
    "            return False\n",
    "        i += 6\n",
    "    return True\n",
    "\n",
    "# Function to check if a number is palindromic\n",
    "def is_palindromic(n):\n",
    "    return str(n) == str(n)[::-1]\n",
    "\n",
    "# Use list comprehension to generate prime palindromic numbers\n",
    "limit = 1000  # You can change the limit as needed\n",
    "prime_palindromic_numbers = [num for num in range(2, limit) if is_prime(num) and is_palindromic(num)]\n",
    "\n",
    "# Print the list of prime palindromic numbers\n",
    "print(\"Prime Palindromic Numbers up to\", limit, \"are:\", prime_palindromic_numbers)\n"
   ]
  },
  {
   "cell_type": "code",
   "execution_count": null,
   "id": "54dbda93-1d56-43d8-8449-ea2fbf4b21d9",
   "metadata": {},
   "outputs": [],
   "source": []
  }
 ],
 "metadata": {
  "kernelspec": {
   "display_name": "Python 3 (ipykernel)",
   "language": "python",
   "name": "python3"
  },
  "language_info": {
   "codemirror_mode": {
    "name": "ipython",
    "version": 3
   },
   "file_extension": ".py",
   "mimetype": "text/x-python",
   "name": "python",
   "nbconvert_exporter": "python",
   "pygments_lexer": "ipython3",
   "version": "3.10.8"
  }
 },
 "nbformat": 4,
 "nbformat_minor": 5
}
